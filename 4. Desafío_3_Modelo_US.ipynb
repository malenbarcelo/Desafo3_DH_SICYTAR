{
 "cells": [
  {
   "cell_type": "markdown",
   "metadata": {},
   "source": [
    "### Desafío 3: Elaboración de un modelo de clasificación\n",
    "#### Etapa 4 - Se prueba llevar a cabo el modelo implementando con el dataset balanceado con undersampling"
   ]
  },
  {
   "cell_type": "markdown",
   "metadata": {},
   "source": []
  },
  {
   "cell_type": "code",
   "execution_count": 102,
   "metadata": {},
   "outputs": [],
   "source": [
    "#Se importa la funcionalidad necesaria\n",
    "import pandas as pd\n",
    "import numpy as np\n",
    "from sklearn.neighbors import KNeighborsClassifier\n",
    "from sklearn.model_selection import cross_val_score, train_test_split\n",
    "%matplotlib inline\n",
    "import matplotlib.pyplot as plt\n",
    "import seaborn as sns\n",
    "import warnings\n",
    "warnings.filterwarnings('ignore')\n",
    "from sklearn.model_selection import GridSearchCV,RandomizedSearchCV\n",
    "from sklearn.metrics import confusion_matrix,roc_curve\n",
    "from sklearn.metrics import precision_score, recall_score,accuracy_score\n",
    "from sklearn.linear_model  import LogisticRegression\n",
    "from sklearn.preprocessing import StandardScaler\n",
    "scaler = StandardScaler()"
   ]
  },
  {
   "cell_type": "code",
   "execution_count": 103,
   "metadata": {},
   "outputs": [
    {
     "data": {
      "text/html": [
       "<div>\n",
       "<style scoped>\n",
       "    .dataframe tbody tr th:only-of-type {\n",
       "        vertical-align: middle;\n",
       "    }\n",
       "\n",
       "    .dataframe tbody tr th {\n",
       "        vertical-align: top;\n",
       "    }\n",
       "\n",
       "    .dataframe thead th {\n",
       "        text-align: right;\n",
       "    }\n",
       "</style>\n",
       "<table border=\"1\" class=\"dataframe\">\n",
       "  <thead>\n",
       "    <tr style=\"text-align: right;\">\n",
       "      <th></th>\n",
       "      <th>sexo</th>\n",
       "      <th>producciones_ult_anio</th>\n",
       "      <th>prod_año_anterior</th>\n",
       "      <th>prod_2_años_anteriores</th>\n",
       "      <th>prod_3_años_anteriores</th>\n",
       "      <th>max_grado_academico</th>\n",
       "      <th>gran_area_experticia</th>\n",
       "      <th>area_experticia</th>\n",
       "      <th>disciplina_experticia</th>\n",
       "      <th>tipo_personal</th>\n",
       "      <th>condicion_docente</th>\n",
       "      <th>ded_horaria_docente</th>\n",
       "      <th>clase_cargo_docente</th>\n",
       "      <th>categoria_conicet</th>\n",
       "      <th>Presento_ultimo_año</th>\n",
       "      <th>rango_edad</th>\n",
       "    </tr>\n",
       "  </thead>\n",
       "  <tbody>\n",
       "    <tr>\n",
       "      <th>0</th>\n",
       "      <td>F</td>\n",
       "      <td>0</td>\n",
       "      <td>0</td>\n",
       "      <td>1</td>\n",
       "      <td>1</td>\n",
       "      <td>Universitario de grado</td>\n",
       "      <td>HUMANIDADES</td>\n",
       "      <td>Lengua y Literatura</td>\n",
       "      <td>Estudios Generales de Literatura</td>\n",
       "      <td>DOCENTE</td>\n",
       "      <td>Interino</td>\n",
       "      <td>De 0 hasta 19 horas</td>\n",
       "      <td>Jefe de trabajos prácticos</td>\n",
       "      <td>No pertenece a Conicet</td>\n",
       "      <td>0</td>\n",
       "      <td>(20, 30]</td>\n",
       "    </tr>\n",
       "    <tr>\n",
       "      <th>1</th>\n",
       "      <td>F</td>\n",
       "      <td>0</td>\n",
       "      <td>0</td>\n",
       "      <td>0</td>\n",
       "      <td>1</td>\n",
       "      <td>Universitario de grado</td>\n",
       "      <td>CIENCIAS NATURALES Y EXACTAS</td>\n",
       "      <td>Ciencias Químicas</td>\n",
       "      <td>Química Orgánica</td>\n",
       "      <td>DOCENTE</td>\n",
       "      <td>Regular o por concurso</td>\n",
       "      <td>De 0 hasta 19 horas</td>\n",
       "      <td>Ayudante Docente A</td>\n",
       "      <td>No pertenece a Conicet</td>\n",
       "      <td>0</td>\n",
       "      <td>(30, 40]</td>\n",
       "    </tr>\n",
       "    <tr>\n",
       "      <th>2</th>\n",
       "      <td>F</td>\n",
       "      <td>0</td>\n",
       "      <td>0</td>\n",
       "      <td>0</td>\n",
       "      <td>0</td>\n",
       "      <td>Universitario de grado</td>\n",
       "      <td>CIENCIAS SOCIALES</td>\n",
       "      <td>Psicología</td>\n",
       "      <td>Otras Psicología</td>\n",
       "      <td>OTRO PERSONAL DE LA INSTITUCION</td>\n",
       "      <td>no docente</td>\n",
       "      <td>0</td>\n",
       "      <td>no docente</td>\n",
       "      <td>No pertenece a Conicet</td>\n",
       "      <td>0</td>\n",
       "      <td>(60, 70]</td>\n",
       "    </tr>\n",
       "    <tr>\n",
       "      <th>3</th>\n",
       "      <td>M</td>\n",
       "      <td>0</td>\n",
       "      <td>0</td>\n",
       "      <td>0</td>\n",
       "      <td>0</td>\n",
       "      <td>Universitario de grado</td>\n",
       "      <td>INGENIERÍAS Y TECNOLOGÍAS</td>\n",
       "      <td>Ingeniería de los Materiales</td>\n",
       "      <td>Recubrimientos y Películas</td>\n",
       "      <td>BECARIO DE I+D</td>\n",
       "      <td>Interino</td>\n",
       "      <td>De 0 hasta 19 horas</td>\n",
       "      <td>Ayudante de trabajos prácticos de primera</td>\n",
       "      <td>No pertenece a Conicet</td>\n",
       "      <td>0</td>\n",
       "      <td>(30, 40]</td>\n",
       "    </tr>\n",
       "    <tr>\n",
       "      <th>4</th>\n",
       "      <td>F</td>\n",
       "      <td>0</td>\n",
       "      <td>1</td>\n",
       "      <td>7</td>\n",
       "      <td>4</td>\n",
       "      <td>Universitario de posgrado/doctorado</td>\n",
       "      <td>CIENCIAS NATURALES Y EXACTAS</td>\n",
       "      <td>Ciencias Físicas</td>\n",
       "      <td>Otras Ciencias Físicas</td>\n",
       "      <td>INVESTIGADOR</td>\n",
       "      <td>Regular o por concurso</td>\n",
       "      <td>40 horas o más</td>\n",
       "      <td>Profesor asociado</td>\n",
       "      <td>Investigador independiente</td>\n",
       "      <td>0</td>\n",
       "      <td>(40, 50]</td>\n",
       "    </tr>\n",
       "  </tbody>\n",
       "</table>\n",
       "</div>"
      ],
      "text/plain": [
       "  sexo  producciones_ult_anio  prod_año_anterior  prod_2_años_anteriores  \\\n",
       "0    F                      0                  0                       1   \n",
       "1    F                      0                  0                       0   \n",
       "2    F                      0                  0                       0   \n",
       "3    M                      0                  0                       0   \n",
       "4    F                      0                  1                       7   \n",
       "\n",
       "   prod_3_años_anteriores                  max_grado_academico  \\\n",
       "0                       1               Universitario de grado   \n",
       "1                       1               Universitario de grado   \n",
       "2                       0               Universitario de grado   \n",
       "3                       0               Universitario de grado   \n",
       "4                       4  Universitario de posgrado/doctorado   \n",
       "\n",
       "           gran_area_experticia               area_experticia  \\\n",
       "0                   HUMANIDADES           Lengua y Literatura   \n",
       "1  CIENCIAS NATURALES Y EXACTAS             Ciencias Químicas   \n",
       "2             CIENCIAS SOCIALES                    Psicología   \n",
       "3     INGENIERÍAS Y TECNOLOGÍAS  Ingeniería de los Materiales   \n",
       "4  CIENCIAS NATURALES Y EXACTAS              Ciencias Físicas   \n",
       "\n",
       "              disciplina_experticia                    tipo_personal  \\\n",
       "0  Estudios Generales de Literatura                          DOCENTE   \n",
       "1                  Química Orgánica                          DOCENTE   \n",
       "2                  Otras Psicología  OTRO PERSONAL DE LA INSTITUCION   \n",
       "3        Recubrimientos y Películas                   BECARIO DE I+D   \n",
       "4            Otras Ciencias Físicas                     INVESTIGADOR   \n",
       "\n",
       "        condicion_docente  ded_horaria_docente  \\\n",
       "0                Interino  De 0 hasta 19 horas   \n",
       "1  Regular o por concurso  De 0 hasta 19 horas   \n",
       "2              no docente                    0   \n",
       "3                Interino  De 0 hasta 19 horas   \n",
       "4  Regular o por concurso       40 horas o más   \n",
       "\n",
       "                         clase_cargo_docente           categoria_conicet  \\\n",
       "0                 Jefe de trabajos prácticos      No pertenece a Conicet   \n",
       "1                         Ayudante Docente A      No pertenece a Conicet   \n",
       "2                                 no docente      No pertenece a Conicet   \n",
       "3  Ayudante de trabajos prácticos de primera      No pertenece a Conicet   \n",
       "4                          Profesor asociado  Investigador independiente   \n",
       "\n",
       "   Presento_ultimo_año rango_edad  \n",
       "0                    0   (20, 30]  \n",
       "1                    0   (30, 40]  \n",
       "2                    0   (60, 70]  \n",
       "3                    0   (30, 40]  \n",
       "4                    0   (40, 50]  "
      ]
     },
     "execution_count": 103,
     "metadata": {},
     "output_type": "execute_result"
    }
   ],
   "source": [
    "#Lectura del archivo\n",
    "df=pd.read_csv('Df_CyT_us.csv')\n",
    "df.drop(columns='Unnamed: 0',inplace=True)\n",
    "df.head()"
   ]
  },
  {
   "cell_type": "code",
   "execution_count": 104,
   "metadata": {},
   "outputs": [
    {
     "data": {
      "text/plain": [
       "Index(['sexo', 'producciones_ult_anio', 'prod_año_anterior',\n",
       "       'prod_2_años_anteriores', 'prod_3_años_anteriores',\n",
       "       'max_grado_academico', 'gran_area_experticia', 'area_experticia',\n",
       "       'disciplina_experticia', 'tipo_personal', 'condicion_docente',\n",
       "       'ded_horaria_docente', 'clase_cargo_docente', 'categoria_conicet',\n",
       "       'Presento_ultimo_año', 'rango_edad'],\n",
       "      dtype='object')"
      ]
     },
     "execution_count": 104,
     "metadata": {},
     "output_type": "execute_result"
    }
   ],
   "source": [
    "df.columns"
   ]
  },
  {
   "cell_type": "code",
   "execution_count": 105,
   "metadata": {},
   "outputs": [],
   "source": [
    "#Se generan dummies para sexo \n",
    "df_dummies = pd.get_dummies(df['sexo'], prefix='sexo',drop_first=True)\n",
    "df=pd.concat([df,df_dummies], axis=1)\n",
    "df.drop(columns='sexo',inplace=True)"
   ]
  },
  {
   "cell_type": "code",
   "execution_count": 106,
   "metadata": {},
   "outputs": [],
   "source": [
    "#Se generan dummies para rango_edad \n",
    "df_dummies = pd.get_dummies(df['rango_edad'], prefix='edad',drop_first=True)\n",
    "df=pd.concat([df,df_dummies], axis=1)\n",
    "df.drop(columns='rango_edad',inplace=True)"
   ]
  },
  {
   "cell_type": "code",
   "execution_count": 107,
   "metadata": {},
   "outputs": [],
   "source": [
    "#Se generan dummies para tipo_personal\n",
    "df_dummies = pd.get_dummies(df['tipo_personal'], prefix='t_personal',drop_first=True)\n",
    "df=pd.concat([df,df_dummies], axis=1)\n",
    "df.drop(columns='tipo_personal',inplace=True)"
   ]
  },
  {
   "cell_type": "code",
   "execution_count": 108,
   "metadata": {},
   "outputs": [],
   "source": [
    "#Se generan dummies para condicion_docente\n",
    "df_dummies = pd.get_dummies(df['condicion_docente'], prefix='cond_docente',drop_first=True)\n",
    "df=pd.concat([df,df_dummies], axis=1)\n",
    "df.drop(columns='condicion_docente',inplace=True)"
   ]
  },
  {
   "cell_type": "code",
   "execution_count": 109,
   "metadata": {},
   "outputs": [],
   "source": [
    "#Se generan dummies para ded_horaria_docente\n",
    "df_dummies = pd.get_dummies(df['ded_horaria_docente'], prefix='ded_horaria',drop_first=True)\n",
    "df=pd.concat([df,df_dummies], axis=1)\n",
    "df.drop(columns='ded_horaria_docente',inplace=True)"
   ]
  },
  {
   "cell_type": "code",
   "execution_count": 110,
   "metadata": {},
   "outputs": [],
   "source": [
    "#Se generan dummies para max_grado_academico\n",
    "df_dummies = pd.get_dummies(df['max_grado_academico'], prefix='grado_acad',drop_first=True)\n",
    "df=pd.concat([df,df_dummies], axis=1)\n",
    "df.drop(columns='max_grado_academico',inplace=True)"
   ]
  },
  {
   "cell_type": "code",
   "execution_count": 111,
   "metadata": {},
   "outputs": [],
   "source": [
    "#Se generan dummies para categoria_conicet\n",
    "df_dummies = pd.get_dummies(df['categoria_conicet'], prefix='cat_conicet',drop_first=True)\n",
    "df=pd.concat([df,df_dummies], axis=1)\n",
    "df.drop(columns='categoria_conicet',inplace=True)"
   ]
  },
  {
   "cell_type": "code",
   "execution_count": 112,
   "metadata": {},
   "outputs": [],
   "source": [
    "#Se generan dummies para clase_cargo_docente\n",
    "df_dummies = pd.get_dummies(df['clase_cargo_docente'], prefix='clase_cargo_docente',drop_first=True)\n",
    "df=pd.concat([df,df_dummies], axis=1)\n",
    "df.drop(columns='clase_cargo_docente',inplace=True)"
   ]
  },
  {
   "cell_type": "markdown",
   "metadata": {},
   "source": [
    "#### 1. Se prueban diferentes modelos para la tabla que considera Gran Area experticia"
   ]
  },
  {
   "cell_type": "code",
   "execution_count": 113,
   "metadata": {},
   "outputs": [],
   "source": [
    "#Se prueba un primer modelo tomando de las opciones de área la más abarcativa (gran area experticia)\n",
    "#Se generan dummies para 'gran_area_experticia'\n",
    "df_dummies = pd.get_dummies(df['gran_area_experticia'], prefix='area_exp',drop_first=True)\n",
    "df_gran_area=pd.concat([df,df_dummies], axis=1)\n",
    "df_gran_area.drop(columns='gran_area_experticia',inplace=True)"
   ]
  },
  {
   "cell_type": "code",
   "execution_count": 114,
   "metadata": {},
   "outputs": [],
   "source": [
    "#Se define la matriz target y la matriz de features\n",
    "X_ga=df_gran_area.drop(columns=['producciones_ult_anio','area_experticia', 'disciplina_experticia',\n",
    "       'Presento_ultimo_año'])\n",
    "\n",
    "y_ga =df_gran_area['Presento_ultimo_año']"
   ]
  },
  {
   "cell_type": "code",
   "execution_count": 115,
   "metadata": {},
   "outputs": [],
   "source": [
    "# Hacemos el split entre train y test\n",
    "X_train_ga, X_test_ga, y_train_ga, y_test_ga = train_test_split(X_ga, y_ga, test_size = 0.33)"
   ]
  },
  {
   "cell_type": "code",
   "execution_count": 116,
   "metadata": {},
   "outputs": [
    {
     "name": "stdout",
     "output_type": "stream",
     "text": [
      "0.7848294263388603\n",
      "0.7467171717171717\n",
      "0.810692254969157\n"
     ]
    }
   ],
   "source": [
    "#Modelo con KNN = 50\n",
    "model_KNN_50_ga = KNeighborsClassifier(n_neighbors=50)\n",
    "model_KNN_50_ga.fit(X_train_ga,y_train_ga)\n",
    "y_pred_KNN_50_ga = model_KNN_50_ga.predict(X_test_ga)\n",
    "confusion_matrix(y_test_ga, y_pred_KNN_50_ga)\n",
    "print(accuracy_score(y_test_ga, y_pred_KNN_50_ga))\n",
    "print(recall_score(y_test_ga, y_pred_KNN_50_ga))\n",
    "print(precision_score(y_test_ga, y_pred_KNN_50_ga))"
   ]
  },
  {
   "cell_type": "code",
   "execution_count": 117,
   "metadata": {},
   "outputs": [
    {
     "name": "stdout",
     "output_type": "stream",
     "text": [
      "0.7793659869131567\n",
      "0.722979797979798\n",
      "0.8174161313347609\n"
     ]
    }
   ],
   "source": [
    "#Modelo con KNN = 10\n",
    "model_KNN_10_ga = KNeighborsClassifier(n_neighbors=10)\n",
    "model_KNN_10_ga.fit(X_train_ga,y_train_ga)\n",
    "y_pred_KNN_10_ga = model_KNN_10_ga.predict(X_test_ga)\n",
    "confusion_matrix(y_test_ga, y_pred_KNN_10_ga)\n",
    "print(accuracy_score(y_test_ga, y_pred_KNN_10_ga))\n",
    "print(recall_score(y_test_ga, y_pred_KNN_10_ga))\n",
    "print(precision_score(y_test_ga, y_pred_KNN_10_ga))"
   ]
  },
  {
   "cell_type": "code",
   "execution_count": 118,
   "metadata": {},
   "outputs": [
    {
     "name": "stdout",
     "output_type": "stream",
     "text": [
      "0.7839400292230481\n",
      "0.7468434343434344\n",
      "0.8090548488578854\n"
     ]
    }
   ],
   "source": [
    "#Modelo con KNN = 100\n",
    "model_KNN_100_ga = KNeighborsClassifier(n_neighbors=100)\n",
    "model_KNN_100_ga.fit(X_train_ga,y_train_ga)\n",
    "y_pred_KNN_100_ga = model_KNN_100_ga.predict(X_test_ga)\n",
    "confusion_matrix(y_test_ga, y_pred_KNN_100_ga)\n",
    "print(accuracy_score(y_test_ga, y_pred_KNN_100_ga))\n",
    "print(recall_score(y_test_ga, y_pred_KNN_100_ga))\n",
    "print(precision_score(y_test_ga, y_pred_KNN_100_ga))"
   ]
  },
  {
   "cell_type": "code",
   "execution_count": 119,
   "metadata": {},
   "outputs": [
    {
     "name": "stdout",
     "output_type": "stream",
     "text": [
      "0.7783495330665142\n",
      "0.732449494949495\n",
      "0.8089527262585413\n"
     ]
    }
   ],
   "source": [
    "#Modelo con KNN = 500\n",
    "model_KNN_500_ga = KNeighborsClassifier(n_neighbors=500)\n",
    "model_KNN_500_ga.fit(X_train_ga,y_train_ga)\n",
    "y_pred_KNN_500_ga = model_KNN_500_ga.predict(X_test_ga)\n",
    "confusion_matrix(y_test_ga, y_pred_KNN_500_ga)\n",
    "print(accuracy_score(y_test_ga, y_pred_KNN_500_ga))\n",
    "print(recall_score(y_test_ga, y_pred_KNN_500_ga))\n",
    "print(precision_score(y_test_ga, y_pred_KNN_500_ga))"
   ]
  },
  {
   "cell_type": "code",
   "execution_count": 120,
   "metadata": {},
   "outputs": [
    {
     "name": "stdout",
     "output_type": "stream",
     "text": [
      "0.791563433072867\n",
      "0.7544191919191919\n",
      "0.8172616605115579\n"
     ]
    }
   ],
   "source": [
    "#Logistic regression C=1e10\n",
    "modelo_LR_1e10_ga =  LogisticRegression(penalty='l1',C=1e10)\n",
    "modelo_LR_1e10_ga.fit(X_train_ga,y_train_ga)\n",
    "y_pred_LR_1e10_ga=modelo_LR_1e10_ga.predict(X_test_ga)\n",
    "modelo_LR_1e10_ga.predict_proba(X_test_ga)\n",
    "\n",
    "print(accuracy_score(y_test_ga, y_pred_LR_1e10_ga))\n",
    "print(recall_score(y_test_ga, y_pred_LR_1e10_ga))\n",
    "print(precision_score(y_test_ga, y_pred_LR_1e10_ga))\n"
   ]
  },
  {
   "cell_type": "code",
   "execution_count": 121,
   "metadata": {},
   "outputs": [
    {
     "name": "stdout",
     "output_type": "stream",
     "text": [
      "0.7921987167270186\n",
      "0.7553030303030303\n",
      "0.8177717019822283\n"
     ]
    }
   ],
   "source": [
    "#Logistic regression C=1\n",
    "\n",
    "modelo_LR_1_ga =  LogisticRegression(penalty='l1',C=1)\n",
    "modelo_LR_1_ga.fit(X_train_ga,y_train_ga)\n",
    "y_pred_LR_1_ga=modelo_LR_1_ga.predict(X_test_ga)\n",
    "modelo_LR_1_ga.predict_proba(X_test_ga)\n",
    "\n",
    "print(accuracy_score(y_test_ga, y_pred_LR_1_ga))\n",
    "print(recall_score(y_test_ga, y_pred_LR_1_ga))\n",
    "print(precision_score(y_test_ga, y_pred_LR_1_ga))\n"
   ]
  },
  {
   "cell_type": "code",
   "execution_count": 134,
   "metadata": {},
   "outputs": [
    {
     "name": "stdout",
     "output_type": "stream",
     "text": [
      "0.786735277301315\n",
      "0.7200757575757576\n",
      "0.8334064007014468\n"
     ]
    }
   ],
   "source": [
    "#Logistic regression C=100\n",
    "modelo_LR_100_ga =  LogisticRegression(penalty='l2',C=100)\n",
    "modelo_LR_100_ga.fit(X_train_ga,y_train_ga)\n",
    "\n",
    "y_pred_LR_100_ga=modelo_LR_100_ga.predict(X_test_ga)\n",
    "\n",
    "modelo_LR_100_ga.predict_proba(X_test_ga)\n",
    "\n",
    "print(accuracy_score(y_test_ga, y_pred_LR_100_ga))\n",
    "print(recall_score(y_test_ga, y_pred_LR_100_ga))\n",
    "print(precision_score(y_test_ga, y_pred_LR_100_ga))\n"
   ]
  },
  {
   "cell_type": "code",
   "execution_count": 135,
   "metadata": {},
   "outputs": [
    {
     "name": "stdout",
     "output_type": "stream",
     "text": [
      "Mejor Penalización: l1\n",
      "Mejor C: 1.0\n"
     ]
    },
    {
     "data": {
      "text/plain": [
       "0.7918140000625841"
      ]
     },
     "execution_count": 135,
     "metadata": {},
     "output_type": "execute_result"
    }
   ],
   "source": [
    "#Dado que, de todos los modelos probados, la Regresión Logística para la base balanceada con undersampling fue la que \n",
    "#mejor resultados arrojó, se busca mejorar ese modelo.\n",
    "#Se estandarizan las variables y se aplica gridsearch\n",
    "\n",
    "X_train_ga['prod_año_anterior']=scaler.fit_transform(X_train_ga[['prod_año_anterior']])\n",
    "X_train_ga['prod_2_años_anteriores']=scaler.fit_transform(X_train_ga[['prod_2_años_anteriores']])\n",
    "X_train_ga['prod_3_años_anteriores']=scaler.fit_transform(X_train_ga[['prod_3_años_anteriores']])\n",
    "\n",
    "X_test_ga['prod_año_anterior']=scaler.transform(X_test_ga[['prod_año_anterior']])\n",
    "X_test_ga['prod_2_años_anteriores']=scaler.transform(X_test_ga[['prod_2_años_anteriores']])\n",
    "X_test_ga['prod_3_años_anteriores']=scaler.transform(X_test_ga[['prod_3_años_anteriores']])\n",
    "\n",
    "modelo_LR_ga =  LogisticRegression()\n",
    "hyperparameters = {'C': np.logspace(0, 4, 8), \n",
    "                   'penalty': ['l1', 'l2']}\n",
    "\n",
    "clasificador = GridSearchCV(modelo_LR_ga, hyperparameters, cv=5, verbose=0)\n",
    "mejor_modelo_LR_ga = clasificador.fit(X_train_ga, y_train_ga)\n",
    "print('Mejor Penalización:', mejor_modelo_LR_ga.best_estimator_.get_params()['penalty'])\n",
    "print('Mejor C:', mejor_modelo_LR_ga.best_estimator_.get_params()['C'])\n",
    "mejor_modelo_LR_ga.best_score_\n",
    "\n"
   ]
  },
  {
   "cell_type": "code",
   "execution_count": 136,
   "metadata": {},
   "outputs": [
    {
     "name": "stdout",
     "output_type": "stream",
     "text": [
      "0.7871799758592212\n",
      "0.7200757575757576\n",
      "0.8342598010532475\n"
     ]
    }
   ],
   "source": [
    "# Se calculan los scores\n",
    "\n",
    "modelo_LR_1_ga =  LogisticRegression(penalty='l1',C=1)\n",
    "modelo_LR_1_ga.fit(X_train_ga,y_train_ga)\n",
    "\n",
    "y_pred_LR_1_ga=modelo_LR_1_ga.predict(X_test_ga)\n",
    "modelo_LR_1_ga.predict_proba(X_test_ga)\n",
    "\n",
    "print(accuracy_score(y_test_ga, y_pred_LR_1_ga))\n",
    "print(recall_score(y_test_ga, y_pred_LR_1_ga))\n",
    "print(precision_score(y_test_ga, y_pred_LR_1_ga))\n"
   ]
  },
  {
   "cell_type": "code",
   "execution_count": 137,
   "metadata": {},
   "outputs": [
    {
     "name": "stdout",
     "output_type": "stream",
     "text": [
      "             precision    recall  f1-score   support\n",
      "\n",
      "          0       0.75      0.86      0.80      7821\n",
      "          1       0.83      0.72      0.77      7920\n",
      "\n",
      "avg / total       0.79      0.79      0.79     15741\n",
      "\n"
     ]
    }
   ],
   "source": [
    "from sklearn.metrics import classification_report, confusion_matrix\n",
    "print(classification_report(y_test_ga, y_pred_LR_1_ga))"
   ]
  },
  {
   "cell_type": "markdown",
   "metadata": {},
   "source": [
    "#### 2. Se prueba el mejor modelo que resultó de Gran Area con Area Experticia"
   ]
  },
  {
   "cell_type": "code",
   "execution_count": 138,
   "metadata": {},
   "outputs": [],
   "source": [
    "#Para el modelo que mejor nos dio se prueba poniendo el área de expertise en lugar del gran área de expertise\n",
    "#Se generan dummies para 'area_experticia'\n",
    "df_dummies = pd.get_dummies(df['area_experticia'], prefix='area_exp',drop_first=True)\n",
    "df_area=pd.concat([df,df_dummies], axis=1)\n",
    "df_area.drop(columns='area_experticia',inplace=True)"
   ]
  },
  {
   "cell_type": "code",
   "execution_count": 139,
   "metadata": {},
   "outputs": [],
   "source": [
    "#Se define la matriz target y la matriz de features\n",
    "X_a=df_area.drop(columns=['producciones_ult_anio','gran_area_experticia', 'disciplina_experticia',\n",
    "       'Presento_ultimo_año'])\n",
    "\n",
    "y_a =df_area['Presento_ultimo_año']"
   ]
  },
  {
   "cell_type": "code",
   "execution_count": 140,
   "metadata": {},
   "outputs": [],
   "source": [
    "# Hacemos el split entre train y test\n",
    "X_train_a, X_test_a, y_train_a, y_test_a = train_test_split(X_a, y_a, test_size = 0.33)"
   ]
  },
  {
   "cell_type": "code",
   "execution_count": 141,
   "metadata": {},
   "outputs": [
    {
     "name": "stdout",
     "output_type": "stream",
     "text": [
      "0.7910552061495457\n",
      "0.7456050955414013\n",
      "0.8191742477256823\n"
     ]
    }
   ],
   "source": [
    "#Logistic regression C=1 con variables estanarizadas\n",
    "\n",
    "X_train_a['prod_año_anterior']=scaler.fit_transform(X_train_a[['prod_año_anterior']])\n",
    "X_train_a['prod_2_años_anteriores']=scaler.fit_transform(X_train_a[['prod_2_años_anteriores']])\n",
    "X_train_a['prod_3_años_anteriores']=scaler.fit_transform(X_train_a[['prod_3_años_anteriores']])\n",
    "\n",
    "X_test_a['prod_año_anterior']=scaler.transform(X_test_a[['prod_año_anterior']])\n",
    "X_test_a['prod_2_años_anteriores']=scaler.transform(X_test_a[['prod_2_años_anteriores']])\n",
    "X_test_a['prod_3_años_anteriores']=scaler.transform(X_test_a[['prod_3_años_anteriores']])\n",
    "\n",
    "modelo_LR_1_a =  LogisticRegression(penalty='l1',C=1)\n",
    "modelo_LR_1_a.fit(X_train_a,y_train_a)\n",
    "\n",
    "y_pred_LR_1_a=modelo_LR_1_a.predict(X_test_a)\n",
    "modelo_LR_1_a.predict_proba(X_test_a)\n",
    "\n",
    "print(accuracy_score(y_test_a, y_pred_LR_1_a))\n",
    "print(recall_score(y_test_a, y_pred_LR_1_a))\n",
    "print(precision_score(y_test_a, y_pred_LR_1_a))"
   ]
  },
  {
   "cell_type": "markdown",
   "metadata": {},
   "source": [
    "#### 3. Se prueba el mejor modelo que resultó de Gran Area con Disciplina Experticia"
   ]
  },
  {
   "cell_type": "code",
   "execution_count": 142,
   "metadata": {},
   "outputs": [],
   "source": [
    "#Para el modelo que mejor nos dio se prueba poniendo la disciplina expertise en lugar del gran área de expertise\n",
    "#Se generan dummies para 'area_experticia'\n",
    "df_dummies = pd.get_dummies(df['disciplina_experticia'], prefix='disc_exp',drop_first=True)\n",
    "df_disc=pd.concat([df,df_dummies], axis=1)\n",
    "df_disc.drop(columns='disciplina_experticia',inplace=True)"
   ]
  },
  {
   "cell_type": "code",
   "execution_count": 143,
   "metadata": {},
   "outputs": [],
   "source": [
    "#Se define la matriz target y la matriz de features\n",
    "X_disc=df_disc.drop(columns=['producciones_ult_anio','gran_area_experticia', 'area_experticia',\n",
    "       'Presento_ultimo_año'])\n",
    "\n",
    "y_disc =df_disc['Presento_ultimo_año']"
   ]
  },
  {
   "cell_type": "code",
   "execution_count": 144,
   "metadata": {},
   "outputs": [],
   "source": [
    "# Hacemos el split entre train y test\n",
    "X_train_disc, X_test_disc, y_train_disc, y_test_disc = train_test_split(X_disc, y_disc, test_size = 0.33)"
   ]
  },
  {
   "cell_type": "code",
   "execution_count": 145,
   "metadata": {},
   "outputs": [
    {
     "name": "stdout",
     "output_type": "stream",
     "text": [
      "0.7878787878787878\n",
      "0.7339155001926287\n",
      "0.8185333715267832\n"
     ]
    }
   ],
   "source": [
    "#Logistic regression C=1 con variables estanarizadas\n",
    "\n",
    "X_train_disc['prod_año_anterior']=scaler.fit_transform(X_train_disc[['prod_año_anterior']])\n",
    "X_train_disc['prod_2_años_anteriores']=scaler.fit_transform(X_train_disc[['prod_2_años_anteriores']])\n",
    "X_train_disc['prod_3_años_anteriores']=scaler.fit_transform(X_train_disc[['prod_3_años_anteriores']])\n",
    "\n",
    "X_test_disc['prod_año_anterior']=scaler.transform(X_test_disc[['prod_año_anterior']])\n",
    "X_test_disc['prod_2_años_anteriores']=scaler.transform(X_test_disc[['prod_2_años_anteriores']])\n",
    "X_test_disc['prod_3_años_anteriores']=scaler.transform(X_test_disc[['prod_3_años_anteriores']])\n",
    "\n",
    "modelo_LR_1_disc =  LogisticRegression(penalty='l1',C=1)\n",
    "modelo_LR_1_disc.fit(X_train_disc,y_train_disc)\n",
    "\n",
    "y_pred_LR_1_disc=modelo_LR_1_disc.predict(X_test_disc)\n",
    "modelo_LR_1_disc.predict_proba(X_test_disc)\n",
    "\n",
    "print(accuracy_score(y_test_disc, y_pred_LR_1_disc))\n",
    "print(recall_score(y_test_disc, y_pred_LR_1_disc))\n",
    "print(precision_score(y_test_disc, y_pred_LR_1_disc))"
   ]
  },
  {
   "cell_type": "code",
   "execution_count": 146,
   "metadata": {},
   "outputs": [
    {
     "name": "stdout",
     "output_type": "stream",
     "text": [
      "Gran Area expertis -> Precision Score:  0.83 , Features:  97\n",
      "Area expertis -> Precision Score:  0.82 , Features:  133\n",
      "Disciplina expertis -> Precision Score:  0.82 , Features:  326\n"
     ]
    }
   ],
   "source": [
    "#El Scrore que más nos importa es el de precisión\n",
    "#Analizamos los resultados:\n",
    "\n",
    "print('Gran Area expertis -> Precision Score: ',round(precision_score(y_test_ga, y_pred_LR_1_ga),2),\n",
    "      ', Features: ',X_train_ga.shape[1])\n",
    "\n",
    "print('Area expertis -> Precision Score: ',round(precision_score(y_test_a, y_pred_LR_1_a),2),\n",
    "      ', Features: ',X_train_a.shape[1])\n",
    "\n",
    "print('Disciplina expertis -> Precision Score: ',round(precision_score(y_test_disc, y_pred_LR_1_disc),2),\n",
    "      ', Features: ',X_train_disc.shape[1])\n",
    "\n"
   ]
  },
  {
   "cell_type": "code",
   "execution_count": 147,
   "metadata": {},
   "outputs": [
    {
     "name": "stdout",
     "output_type": "stream",
     "text": [
      "0.7871799758592212\n"
     ]
    },
    {
     "data": {
      "image/png": "[encoded data removed]",
      "text/plain": [
       "<Figure size 432x288 with 2 Axes>"
      ]
     },
     "metadata": {},
     "output_type": "display_data"
    }
   ],
   "source": [
    "# Elaboramos la matriz de confusión:\n",
    "from sklearn.metrics import confusion_matrix, accuracy_score\n",
    "\n",
    "confusion_matrix(y_test_ga, y_pred_LR_1_ga)\n",
    "\n",
    "sns.heatmap(confusion_matrix(y_test_ga, y_pred_LR_1_ga), annot=True)\n",
    "\n",
    "print(accuracy_score(y_test_ga, y_pred_LR_1_ga))\n",
    "plt.ylabel('Verdaderos')\n",
    "plt.xlabel('Predichos');"
   ]
  },
  {
   "cell_type": "markdown",
   "metadata": {},
   "source": [
    "#### 4. Curva ROC"
   ]
  },
  {
   "cell_type": "code",
   "execution_count": 148,
   "metadata": {},
   "outputs": [
    {
     "data": {
      "text/html": [
       "<div>\n",
       "<style scoped>\n",
       "    .dataframe tbody tr th:only-of-type {\n",
       "        vertical-align: middle;\n",
       "    }\n",
       "\n",
       "    .dataframe tbody tr th {\n",
       "        vertical-align: top;\n",
       "    }\n",
       "\n",
       "    .dataframe thead th {\n",
       "        text-align: right;\n",
       "    }\n",
       "</style>\n",
       "<table border=\"1\" class=\"dataframe\">\n",
       "  <thead>\n",
       "    <tr style=\"text-align: right;\">\n",
       "      <th></th>\n",
       "      <th>fpr</th>\n",
       "      <th>tpr</th>\n",
       "      <th>thr</th>\n",
       "    </tr>\n",
       "  </thead>\n",
       "  <tbody>\n",
       "    <tr>\n",
       "      <th>0</th>\n",
       "      <td>0.000000</td>\n",
       "      <td>0.000126</td>\n",
       "      <td>1.000000</td>\n",
       "    </tr>\n",
       "    <tr>\n",
       "      <th>1</th>\n",
       "      <td>0.000000</td>\n",
       "      <td>0.007702</td>\n",
       "      <td>0.999932</td>\n",
       "    </tr>\n",
       "    <tr>\n",
       "      <th>2</th>\n",
       "      <td>0.000128</td>\n",
       "      <td>0.007702</td>\n",
       "      <td>0.999931</td>\n",
       "    </tr>\n",
       "    <tr>\n",
       "      <th>3</th>\n",
       "      <td>0.000128</td>\n",
       "      <td>0.009848</td>\n",
       "      <td>0.999854</td>\n",
       "    </tr>\n",
       "    <tr>\n",
       "      <th>4</th>\n",
       "      <td>0.000256</td>\n",
       "      <td>0.009848</td>\n",
       "      <td>0.999842</td>\n",
       "    </tr>\n",
       "  </tbody>\n",
       "</table>\n",
       "</div>"
      ],
      "text/plain": [
       "        fpr       tpr       thr\n",
       "0  0.000000  0.000126  1.000000\n",
       "1  0.000000  0.007702  0.999932\n",
       "2  0.000128  0.007702  0.999931\n",
       "3  0.000128  0.009848  0.999854\n",
       "4  0.000256  0.009848  0.999842"
      ]
     },
     "execution_count": 148,
     "metadata": {},
     "output_type": "execute_result"
    }
   ],
   "source": [
    "y_probs_logit = modelo_LR_1_ga.predict_proba(X_test_ga)\n",
    "fpr_log,tpr_log,thr_log = roc_curve(y_test_ga, y_probs_logit[:,1])\n",
    "df_RL = pd.DataFrame(dict(fpr=fpr_log, tpr=tpr_log, thr = thr_log))\n",
    "df_RL.head()"
   ]
  },
  {
   "cell_type": "code",
   "execution_count": 149,
   "metadata": {},
   "outputs": [
    {
     "data": {
      "image/png": "[encoded data removed]",
      "text/plain": [
       "<Figure size 432x288 with 1 Axes>"
      ]
     },
     "metadata": {},
     "output_type": "display_data"
    }
   ],
   "source": [
    "plt.axis([0, 1.01, 0, 1.01])\n",
    "plt.xlabel('1 - Specificty')\n",
    "plt.ylabel('TPR / Sensitivity')\n",
    "plt.title('ROC Curve')\n",
    "plt.plot(df_RL['fpr'],df_RL['tpr'])\n",
    "plt.plot(np.arange(0,1, step =0.01), np.arange(0,1, step =0.01))\n",
    "plt.show() "
   ]
  },
  {
   "cell_type": "code",
   "execution_count": 150,
   "metadata": {},
   "outputs": [],
   "source": [
    "coef=pd.DataFrame(X_test_ga.columns,columns=['Feature'])\n",
    "coef['ponderador']=modelo_LR_1_ga.coef_.reshape(97,1)"
   ]
  },
  {
   "cell_type": "code",
   "execution_count": 151,
   "metadata": {},
   "outputs": [
    {
     "data": {
      "text/html": [
       "<div>\n",
       "<style scoped>\n",
       "    .dataframe tbody tr th:only-of-type {\n",
       "        vertical-align: middle;\n",
       "    }\n",
       "\n",
       "    .dataframe tbody tr th {\n",
       "        vertical-align: top;\n",
       "    }\n",
       "\n",
       "    .dataframe thead th {\n",
       "        text-align: right;\n",
       "    }\n",
       "</style>\n",
       "<table border=\"1\" class=\"dataframe\">\n",
       "  <thead>\n",
       "    <tr style=\"text-align: right;\">\n",
       "      <th></th>\n",
       "      <th>Feature</th>\n",
       "      <th>ponderador</th>\n",
       "    </tr>\n",
       "  </thead>\n",
       "  <tbody>\n",
       "    <tr>\n",
       "      <th>0</th>\n",
       "      <td>prod_año_anterior</td>\n",
       "      <td>1.609989</td>\n",
       "    </tr>\n",
       "    <tr>\n",
       "      <th>4</th>\n",
       "      <td>edad_(20, 30]</td>\n",
       "      <td>0.861152</td>\n",
       "    </tr>\n",
       "    <tr>\n",
       "      <th>42</th>\n",
       "      <td>clase_cargo_docente_Asistente principal</td>\n",
       "      <td>0.735291</td>\n",
       "    </tr>\n",
       "    <tr>\n",
       "      <th>83</th>\n",
       "      <td>clase_cargo_docente_Profesor invitado</td>\n",
       "      <td>0.731472</td>\n",
       "    </tr>\n",
       "    <tr>\n",
       "      <th>45</th>\n",
       "      <td>clase_cargo_docente_Auxiliar de segunda categoría</td>\n",
       "      <td>0.494556</td>\n",
       "    </tr>\n",
       "    <tr>\n",
       "      <th>82</th>\n",
       "      <td>clase_cargo_docente_Profesor instructor</td>\n",
       "      <td>0.487541</td>\n",
       "    </tr>\n",
       "    <tr>\n",
       "      <th>5</th>\n",
       "      <td>edad_(30, 40]</td>\n",
       "      <td>0.469592</td>\n",
       "    </tr>\n",
       "    <tr>\n",
       "      <th>1</th>\n",
       "      <td>prod_2_años_anteriores</td>\n",
       "      <td>0.461261</td>\n",
       "    </tr>\n",
       "    <tr>\n",
       "      <th>24</th>\n",
       "      <td>grado_acad_Universitario de posgrado/doctorado</td>\n",
       "      <td>0.459389</td>\n",
       "    </tr>\n",
       "    <tr>\n",
       "      <th>37</th>\n",
       "      <td>clase_cargo_docente_Asistente de primera</td>\n",
       "      <td>0.398251</td>\n",
       "    </tr>\n",
       "    <tr>\n",
       "      <th>66</th>\n",
       "      <td>clase_cargo_docente_Docente Adscripto</td>\n",
       "      <td>0.383686</td>\n",
       "    </tr>\n",
       "    <tr>\n",
       "      <th>53</th>\n",
       "      <td>clase_cargo_docente_Ayudante Docente A</td>\n",
       "      <td>0.375271</td>\n",
       "    </tr>\n",
       "    <tr>\n",
       "      <th>78</th>\n",
       "      <td>clase_cargo_docente_Profesor contratado</td>\n",
       "      <td>0.364573</td>\n",
       "    </tr>\n",
       "    <tr>\n",
       "      <th>49</th>\n",
       "      <td>clase_cargo_docente_Auxiliar docente de segund...</td>\n",
       "      <td>0.331426</td>\n",
       "    </tr>\n",
       "    <tr>\n",
       "      <th>88</th>\n",
       "      <td>clase_cargo_docente_Profesor titular</td>\n",
       "      <td>0.279710</td>\n",
       "    </tr>\n",
       "    <tr>\n",
       "      <th>75</th>\n",
       "      <td>clase_cargo_docente_Profesor adjunto</td>\n",
       "      <td>0.256147</td>\n",
       "    </tr>\n",
       "    <tr>\n",
       "      <th>47</th>\n",
       "      <td>clase_cargo_docente_Auxiliar docente adscripto</td>\n",
       "      <td>0.247451</td>\n",
       "    </tr>\n",
       "    <tr>\n",
       "      <th>27</th>\n",
       "      <td>cat_conicet_Becario postdoctoral</td>\n",
       "      <td>0.246424</td>\n",
       "    </tr>\n",
       "    <tr>\n",
       "      <th>13</th>\n",
       "      <td>t_personal_INVESTIGADOR</td>\n",
       "      <td>0.222858</td>\n",
       "    </tr>\n",
       "    <tr>\n",
       "      <th>6</th>\n",
       "      <td>edad_(40, 50]</td>\n",
       "      <td>0.219028</td>\n",
       "    </tr>\n",
       "    <tr>\n",
       "      <th>76</th>\n",
       "      <td>clase_cargo_docente_Profesor asociado</td>\n",
       "      <td>0.208189</td>\n",
       "    </tr>\n",
       "    <tr>\n",
       "      <th>69</th>\n",
       "      <td>clase_cargo_docente_Docente libre</td>\n",
       "      <td>0.178231</td>\n",
       "    </tr>\n",
       "    <tr>\n",
       "      <th>26</th>\n",
       "      <td>grado_acad_Universitario de posgrado/maestría</td>\n",
       "      <td>0.173203</td>\n",
       "    </tr>\n",
       "    <tr>\n",
       "      <th>93</th>\n",
       "      <td>area_exp_CIENCIAS NATURALES Y EXACTAS</td>\n",
       "      <td>0.171563</td>\n",
       "    </tr>\n",
       "    <tr>\n",
       "      <th>29</th>\n",
       "      <td>cat_conicet_Investigador asistente</td>\n",
       "      <td>0.156224</td>\n",
       "    </tr>\n",
       "    <tr>\n",
       "      <th>56</th>\n",
       "      <td>clase_cargo_docente_Ayudante alumno</td>\n",
       "      <td>0.141777</td>\n",
       "    </tr>\n",
       "    <tr>\n",
       "      <th>73</th>\n",
       "      <td>clase_cargo_docente_Jefe de trabajos prácticos</td>\n",
       "      <td>0.126258</td>\n",
       "    </tr>\n",
       "    <tr>\n",
       "      <th>44</th>\n",
       "      <td>clase_cargo_docente_Auxiliar de primera categoría</td>\n",
       "      <td>0.125742</td>\n",
       "    </tr>\n",
       "    <tr>\n",
       "      <th>74</th>\n",
       "      <td>clase_cargo_docente_Otro de nivel superior</td>\n",
       "      <td>0.116893</td>\n",
       "    </tr>\n",
       "    <tr>\n",
       "      <th>32</th>\n",
       "      <td>cat_conicet_Investigador principal</td>\n",
       "      <td>0.106051</td>\n",
       "    </tr>\n",
       "    <tr>\n",
       "      <th>...</th>\n",
       "      <td>...</td>\n",
       "      <td>...</td>\n",
       "    </tr>\n",
       "    <tr>\n",
       "      <th>41</th>\n",
       "      <td>clase_cargo_docente_Asistente nivel D-2</td>\n",
       "      <td>0.000000</td>\n",
       "    </tr>\n",
       "    <tr>\n",
       "      <th>80</th>\n",
       "      <td>clase_cargo_docente_Profesor extraordinario</td>\n",
       "      <td>0.000000</td>\n",
       "    </tr>\n",
       "    <tr>\n",
       "      <th>3</th>\n",
       "      <td>sexo_M</td>\n",
       "      <td>-0.020543</td>\n",
       "    </tr>\n",
       "    <tr>\n",
       "      <th>60</th>\n",
       "      <td>clase_cargo_docente_Ayudante de segunda</td>\n",
       "      <td>-0.037683</td>\n",
       "    </tr>\n",
       "    <tr>\n",
       "      <th>21</th>\n",
       "      <td>grado_acad_Medio</td>\n",
       "      <td>-0.045220</td>\n",
       "    </tr>\n",
       "    <tr>\n",
       "      <th>34</th>\n",
       "      <td>cat_conicet_No pertenece a Conicet</td>\n",
       "      <td>-0.047089</td>\n",
       "    </tr>\n",
       "    <tr>\n",
       "      <th>91</th>\n",
       "      <td>clase_cargo_docente_no docente</td>\n",
       "      <td>-0.052168</td>\n",
       "    </tr>\n",
       "    <tr>\n",
       "      <th>95</th>\n",
       "      <td>area_exp_HUMANIDADES</td>\n",
       "      <td>-0.068301</td>\n",
       "    </tr>\n",
       "    <tr>\n",
       "      <th>36</th>\n",
       "      <td>cat_conicet_Personal de apoyo</td>\n",
       "      <td>-0.069635</td>\n",
       "    </tr>\n",
       "    <tr>\n",
       "      <th>23</th>\n",
       "      <td>grado_acad_Universitario de grado</td>\n",
       "      <td>-0.072122</td>\n",
       "    </tr>\n",
       "    <tr>\n",
       "      <th>2</th>\n",
       "      <td>prod_3_años_anteriores</td>\n",
       "      <td>-0.080020</td>\n",
       "    </tr>\n",
       "    <tr>\n",
       "      <th>96</th>\n",
       "      <td>area_exp_INGENIERÍAS Y TECNOLOGÍAS</td>\n",
       "      <td>-0.089902</td>\n",
       "    </tr>\n",
       "    <tr>\n",
       "      <th>16</th>\n",
       "      <td>cond_docente_Regular o por concurso</td>\n",
       "      <td>-0.093221</td>\n",
       "    </tr>\n",
       "    <tr>\n",
       "      <th>31</th>\n",
       "      <td>cat_conicet_Investigador independiente</td>\n",
       "      <td>-0.099020</td>\n",
       "    </tr>\n",
       "    <tr>\n",
       "      <th>63</th>\n",
       "      <td>clase_cargo_docente_Ayudante diplomado</td>\n",
       "      <td>-0.138942</td>\n",
       "    </tr>\n",
       "    <tr>\n",
       "      <th>17</th>\n",
       "      <td>cond_docente_no docente</td>\n",
       "      <td>-0.139101</td>\n",
       "    </tr>\n",
       "    <tr>\n",
       "      <th>87</th>\n",
       "      <td>clase_cargo_docente_Profesor por convenio</td>\n",
       "      <td>-0.176590</td>\n",
       "    </tr>\n",
       "    <tr>\n",
       "      <th>92</th>\n",
       "      <td>area_exp_CIENCIAS MÉDICAS Y DE LA SALUD</td>\n",
       "      <td>-0.216997</td>\n",
       "    </tr>\n",
       "    <tr>\n",
       "      <th>89</th>\n",
       "      <td>clase_cargo_docente_Profesor titular plenario</td>\n",
       "      <td>-0.242039</td>\n",
       "    </tr>\n",
       "    <tr>\n",
       "      <th>48</th>\n",
       "      <td>clase_cargo_docente_Auxiliar docente de primer...</td>\n",
       "      <td>-0.261028</td>\n",
       "    </tr>\n",
       "    <tr>\n",
       "      <th>77</th>\n",
       "      <td>clase_cargo_docente_Profesor consulto</td>\n",
       "      <td>-0.277090</td>\n",
       "    </tr>\n",
       "    <tr>\n",
       "      <th>54</th>\n",
       "      <td>clase_cargo_docente_Ayudante Docente B</td>\n",
       "      <td>-0.284582</td>\n",
       "    </tr>\n",
       "    <tr>\n",
       "      <th>57</th>\n",
       "      <td>clase_cargo_docente_Ayudante de cátedra</td>\n",
       "      <td>-0.390273</td>\n",
       "    </tr>\n",
       "    <tr>\n",
       "      <th>61</th>\n",
       "      <td>clase_cargo_docente_Ayudante de trabajos práct...</td>\n",
       "      <td>-0.416062</td>\n",
       "    </tr>\n",
       "    <tr>\n",
       "      <th>8</th>\n",
       "      <td>edad_(60, 70]</td>\n",
       "      <td>-0.478056</td>\n",
       "    </tr>\n",
       "    <tr>\n",
       "      <th>9</th>\n",
       "      <td>edad_(70, 80]</td>\n",
       "      <td>-0.558034</td>\n",
       "    </tr>\n",
       "    <tr>\n",
       "      <th>14</th>\n",
       "      <td>t_personal_OTRO PERSONAL DE LA INSTITUCION</td>\n",
       "      <td>-0.697459</td>\n",
       "    </tr>\n",
       "    <tr>\n",
       "      <th>10</th>\n",
       "      <td>edad_(80, 90]</td>\n",
       "      <td>-0.749302</td>\n",
       "    </tr>\n",
       "    <tr>\n",
       "      <th>79</th>\n",
       "      <td>clase_cargo_docente_Profesor emérito</td>\n",
       "      <td>-0.848575</td>\n",
       "    </tr>\n",
       "    <tr>\n",
       "      <th>12</th>\n",
       "      <td>t_personal_DOCENTE</td>\n",
       "      <td>-1.051259</td>\n",
       "    </tr>\n",
       "  </tbody>\n",
       "</table>\n",
       "<p>97 rows × 2 columns</p>\n",
       "</div>"
      ],
      "text/plain": [
       "                                              Feature  ponderador\n",
       "0                                   prod_año_anterior    1.609989\n",
       "4                                       edad_(20, 30]    0.861152\n",
       "42            clase_cargo_docente_Asistente principal    0.735291\n",
       "83              clase_cargo_docente_Profesor invitado    0.731472\n",
       "45  clase_cargo_docente_Auxiliar de segunda categoría    0.494556\n",
       "82            clase_cargo_docente_Profesor instructor    0.487541\n",
       "5                                       edad_(30, 40]    0.469592\n",
       "1                              prod_2_años_anteriores    0.461261\n",
       "24     grado_acad_Universitario de posgrado/doctorado    0.459389\n",
       "37           clase_cargo_docente_Asistente de primera    0.398251\n",
       "66              clase_cargo_docente_Docente Adscripto    0.383686\n",
       "53             clase_cargo_docente_Ayudante Docente A    0.375271\n",
       "78            clase_cargo_docente_Profesor contratado    0.364573\n",
       "49  clase_cargo_docente_Auxiliar docente de segund...    0.331426\n",
       "88               clase_cargo_docente_Profesor titular    0.279710\n",
       "75               clase_cargo_docente_Profesor adjunto    0.256147\n",
       "47     clase_cargo_docente_Auxiliar docente adscripto    0.247451\n",
       "27                   cat_conicet_Becario postdoctoral    0.246424\n",
       "13                            t_personal_INVESTIGADOR    0.222858\n",
       "6                                       edad_(40, 50]    0.219028\n",
       "76              clase_cargo_docente_Profesor asociado    0.208189\n",
       "69                  clase_cargo_docente_Docente libre    0.178231\n",
       "26      grado_acad_Universitario de posgrado/maestría    0.173203\n",
       "93              area_exp_CIENCIAS NATURALES Y EXACTAS    0.171563\n",
       "29                 cat_conicet_Investigador asistente    0.156224\n",
       "56                clase_cargo_docente_Ayudante alumno    0.141777\n",
       "73     clase_cargo_docente_Jefe de trabajos prácticos    0.126258\n",
       "44  clase_cargo_docente_Auxiliar de primera categoría    0.125742\n",
       "74         clase_cargo_docente_Otro de nivel superior    0.116893\n",
       "32                 cat_conicet_Investigador principal    0.106051\n",
       "..                                                ...         ...\n",
       "41            clase_cargo_docente_Asistente nivel D-2    0.000000\n",
       "80        clase_cargo_docente_Profesor extraordinario    0.000000\n",
       "3                                              sexo_M   -0.020543\n",
       "60            clase_cargo_docente_Ayudante de segunda   -0.037683\n",
       "21                                   grado_acad_Medio   -0.045220\n",
       "34                 cat_conicet_No pertenece a Conicet   -0.047089\n",
       "91                     clase_cargo_docente_no docente   -0.052168\n",
       "95                               area_exp_HUMANIDADES   -0.068301\n",
       "36                      cat_conicet_Personal de apoyo   -0.069635\n",
       "23                  grado_acad_Universitario de grado   -0.072122\n",
       "2                              prod_3_años_anteriores   -0.080020\n",
       "96                 area_exp_INGENIERÍAS Y TECNOLOGÍAS   -0.089902\n",
       "16                cond_docente_Regular o por concurso   -0.093221\n",
       "31             cat_conicet_Investigador independiente   -0.099020\n",
       "63             clase_cargo_docente_Ayudante diplomado   -0.138942\n",
       "17                            cond_docente_no docente   -0.139101\n",
       "87          clase_cargo_docente_Profesor por convenio   -0.176590\n",
       "92            area_exp_CIENCIAS MÉDICAS Y DE LA SALUD   -0.216997\n",
       "89      clase_cargo_docente_Profesor titular plenario   -0.242039\n",
       "48  clase_cargo_docente_Auxiliar docente de primer...   -0.261028\n",
       "77              clase_cargo_docente_Profesor consulto   -0.277090\n",
       "54             clase_cargo_docente_Ayudante Docente B   -0.284582\n",
       "57            clase_cargo_docente_Ayudante de cátedra   -0.390273\n",
       "61  clase_cargo_docente_Ayudante de trabajos práct...   -0.416062\n",
       "8                                       edad_(60, 70]   -0.478056\n",
       "9                                       edad_(70, 80]   -0.558034\n",
       "14         t_personal_OTRO PERSONAL DE LA INSTITUCION   -0.697459\n",
       "10                                      edad_(80, 90]   -0.749302\n",
       "79               clase_cargo_docente_Profesor emérito   -0.848575\n",
       "12                                 t_personal_DOCENTE   -1.051259\n",
       "\n",
       "[97 rows x 2 columns]"
      ]
     },
     "execution_count": 151,
     "metadata": {},
     "output_type": "execute_result"
    }
   ],
   "source": [
    "coef.sort_values(by='ponderador',ascending=False)"
   ]
  },
  {
   "cell_type": "code",
   "execution_count": 152,
   "metadata": {},
   "outputs": [
    {
     "name": "stdout",
     "output_type": "stream",
     "text": [
      "0.7936810767747076\n",
      "0.7665730219296406\n",
      "0.8105160489448484\n"
     ]
    }
   ],
   "source": [
    "#Logistic regression C=1 con variables estandarizadas\n",
    "\n",
    "X_ga['prod_año_anterior']=scaler.fit_transform(X_ga[['prod_año_anterior']])\n",
    "X_ga['prod_2_años_anteriores']=scaler.fit_transform(X_ga[['prod_2_años_anteriores']])\n",
    "X_ga['prod_3_años_anteriores']=scaler.fit_transform(X_ga[['prod_3_años_anteriores']])\n",
    "\n",
    "\n",
    "modelo =  LogisticRegression(penalty='l1',C=1)\n",
    "modelo.fit(X_ga,y_ga)\n",
    "\n",
    "y_pred=modelo.predict(X_ga)\n",
    "\n",
    "print(accuracy_score(y_ga, y_pred))\n",
    "print(recall_score(y_ga, y_pred))\n",
    "print(precision_score(y_ga, y_pred))"
   ]
  },
  {
   "cell_type": "code",
   "execution_count": 153,
   "metadata": {},
   "outputs": [
    {
     "name": "stdout",
     "output_type": "stream",
     "text": [
      "0.7936810767747076\n"
     ]
    },
    {
     "data": {
      "image/png": "[encoded data removed]",
      "text/plain": [
       "<Figure size 432x288 with 2 Axes>"
      ]
     },
     "metadata": {},
     "output_type": "display_data"
    }
   ],
   "source": [
    "# Elaboramos la matriz de confusión:\n",
    "from sklearn.metrics import confusion_matrix, accuracy_score\n",
    "\n",
    "confusion_matrix(y_ga, y_pred)\n",
    "\n",
    "sns.heatmap(confusion_matrix(y_ga, y_pred), annot=True)\n",
    "\n",
    "print(accuracy_score(y_ga, y_pred))\n",
    "plt.ylabel('Verdaderos')\n",
    "plt.xlabel('Predichos');"
   ]
  },
  {
   "cell_type": "code",
   "execution_count": 154,
   "metadata": {},
   "outputs": [
    {
     "name": "stdout",
     "output_type": "stream",
     "text": [
      "Gran Area expertis -> Precision Score:  0.81 , Features:  97\n"
     ]
    }
   ],
   "source": [
    "print('Gran Area expertis -> Precision Score: ',round(precision_score(y_ga, y_pred),2),\n",
    "      ', Features: ',X_ga.shape[1])\n"
   ]
  },
  {
   "cell_type": "code",
   "execution_count": 155,
   "metadata": {},
   "outputs": [
    {
     "data": {
      "text/plain": [
       "(47698,)"
      ]
     },
     "execution_count": 155,
     "metadata": {},
     "output_type": "execute_result"
    }
   ],
   "source": [
    "y_pred.shape"
   ]
  },
  {
   "cell_type": "code",
   "execution_count": 156,
   "metadata": {},
   "outputs": [
    {
     "data": {
      "text/plain": [
       "array([[19575,  4274],\n",
       "       [ 5567, 18282]])"
      ]
     },
     "execution_count": 156,
     "metadata": {},
     "output_type": "execute_result"
    }
   ],
   "source": [
    "\n",
    "confusion_matrix(y_ga, y_pred)"
   ]
  },
  {
   "cell_type": "code",
   "execution_count": 157,
   "metadata": {},
   "outputs": [
    {
     "data": {
      "text/html": [
       "<div>\n",
       "<style scoped>\n",
       "    .dataframe tbody tr th:only-of-type {\n",
       "        vertical-align: middle;\n",
       "    }\n",
       "\n",
       "    .dataframe tbody tr th {\n",
       "        vertical-align: top;\n",
       "    }\n",
       "\n",
       "    .dataframe thead th {\n",
       "        text-align: right;\n",
       "    }\n",
       "</style>\n",
       "<table border=\"1\" class=\"dataframe\">\n",
       "  <thead>\n",
       "    <tr style=\"text-align: right;\">\n",
       "      <th></th>\n",
       "      <th>fpr</th>\n",
       "      <th>tpr</th>\n",
       "      <th>thr</th>\n",
       "    </tr>\n",
       "  </thead>\n",
       "  <tbody>\n",
       "    <tr>\n",
       "      <th>0</th>\n",
       "      <td>0.000000</td>\n",
       "      <td>0.000084</td>\n",
       "      <td>1.0</td>\n",
       "    </tr>\n",
       "    <tr>\n",
       "      <th>1</th>\n",
       "      <td>0.000000</td>\n",
       "      <td>0.000335</td>\n",
       "      <td>1.0</td>\n",
       "    </tr>\n",
       "    <tr>\n",
       "      <th>2</th>\n",
       "      <td>0.000042</td>\n",
       "      <td>0.000335</td>\n",
       "      <td>1.0</td>\n",
       "    </tr>\n",
       "    <tr>\n",
       "      <th>3</th>\n",
       "      <td>0.000042</td>\n",
       "      <td>0.002138</td>\n",
       "      <td>1.0</td>\n",
       "    </tr>\n",
       "    <tr>\n",
       "      <th>4</th>\n",
       "      <td>0.000084</td>\n",
       "      <td>0.002138</td>\n",
       "      <td>1.0</td>\n",
       "    </tr>\n",
       "  </tbody>\n",
       "</table>\n",
       "</div>"
      ],
      "text/plain": [
       "        fpr       tpr  thr\n",
       "0  0.000000  0.000084  1.0\n",
       "1  0.000000  0.000335  1.0\n",
       "2  0.000042  0.000335  1.0\n",
       "3  0.000042  0.002138  1.0\n",
       "4  0.000084  0.002138  1.0"
      ]
     },
     "execution_count": 157,
     "metadata": {},
     "output_type": "execute_result"
    }
   ],
   "source": [
    "y_probs_logit = modelo.predict_proba(X_ga)\n",
    "fpr_log,tpr_log,thr_log = roc_curve(y_ga, y_probs_logit[:,1])\n",
    "df_RL = pd.DataFrame(dict(fpr=fpr_log, tpr=tpr_log, thr = thr_log))\n",
    "df_RL.head()"
   ]
  },
  {
   "cell_type": "code",
   "execution_count": 158,
   "metadata": {},
   "outputs": [
    {
     "data": {
      "image/png": "[encoded data removed]",
      "text/plain": [
       "<Figure size 432x288 with 1 Axes>"
      ]
     },
     "metadata": {},
     "output_type": "display_data"
    }
   ],
   "source": [
    "plt.axis([0, 1.01, 0, 1.01])\n",
    "plt.xlabel('1 - Specificty')\n",
    "plt.ylabel('TPR / Sensitivity')\n",
    "plt.title('ROC Curve')\n",
    "plt.plot(df_RL['fpr'],df_RL['tpr'])\n",
    "plt.plot(np.arange(0,1, step =0.01), np.arange(0,1, step =0.01))\n",
    "plt.show() "
   ]
  },
  {
   "cell_type": "code",
   "execution_count": 165,
   "metadata": {},
   "outputs": [
    {
     "name": "stdout",
     "output_type": "stream",
     "text": [
      "AUC= 0.8621163536743957\n"
     ]
    }
   ],
   "source": [
    "from sklearn.metrics import auc\n",
    "print('AUC=', auc(fpr_log, tpr_log))"
   ]
  },
  {
   "cell_type": "code",
   "execution_count": 164,
   "metadata": {},
   "outputs": [],
   "source": [
    "coef=pd.DataFrame(X_ga.columns,columns=['Feature'])\n",
    "coef['ponderador']=modelo.coef_.reshape(97,1)"
   ]
  },
  {
   "cell_type": "code",
   "execution_count": 162,
   "metadata": {},
   "outputs": [
    {
     "data": {
      "text/html": [
       "<div>\n",
       "<style scoped>\n",
       "    .dataframe tbody tr th:only-of-type {\n",
       "        vertical-align: middle;\n",
       "    }\n",
       "\n",
       "    .dataframe tbody tr th {\n",
       "        vertical-align: top;\n",
       "    }\n",
       "\n",
       "    .dataframe thead th {\n",
       "        text-align: right;\n",
       "    }\n",
       "</style>\n",
       "<table border=\"1\" class=\"dataframe\">\n",
       "  <thead>\n",
       "    <tr style=\"text-align: right;\">\n",
       "      <th></th>\n",
       "      <th>Feature</th>\n",
       "      <th>ponderador</th>\n",
       "    </tr>\n",
       "  </thead>\n",
       "  <tbody>\n",
       "    <tr>\n",
       "      <th>0</th>\n",
       "      <td>prod_año_anterior</td>\n",
       "      <td>1.569554</td>\n",
       "    </tr>\n",
       "    <tr>\n",
       "      <th>4</th>\n",
       "      <td>edad_(20, 30]</td>\n",
       "      <td>0.893978</td>\n",
       "    </tr>\n",
       "    <tr>\n",
       "      <th>42</th>\n",
       "      <td>clase_cargo_docente_Asistente principal</td>\n",
       "      <td>0.761706</td>\n",
       "    </tr>\n",
       "    <tr>\n",
       "      <th>66</th>\n",
       "      <td>clase_cargo_docente_Docente Adscripto</td>\n",
       "      <td>0.698588</td>\n",
       "    </tr>\n",
       "    <tr>\n",
       "      <th>45</th>\n",
       "      <td>clase_cargo_docente_Auxiliar de segunda categoría</td>\n",
       "      <td>0.616176</td>\n",
       "    </tr>\n",
       "    <tr>\n",
       "      <th>47</th>\n",
       "      <td>clase_cargo_docente_Auxiliar docente adscripto</td>\n",
       "      <td>0.550232</td>\n",
       "    </tr>\n",
       "    <tr>\n",
       "      <th>83</th>\n",
       "      <td>clase_cargo_docente_Profesor invitado</td>\n",
       "      <td>0.521331</td>\n",
       "    </tr>\n",
       "    <tr>\n",
       "      <th>40</th>\n",
       "      <td>clase_cargo_docente_Asistente nivel D-1</td>\n",
       "      <td>0.500394</td>\n",
       "    </tr>\n",
       "    <tr>\n",
       "      <th>5</th>\n",
       "      <td>edad_(30, 40]</td>\n",
       "      <td>0.477433</td>\n",
       "    </tr>\n",
       "    <tr>\n",
       "      <th>24</th>\n",
       "      <td>grado_acad_Universitario de posgrado/doctorado</td>\n",
       "      <td>0.472226</td>\n",
       "    </tr>\n",
       "    <tr>\n",
       "      <th>1</th>\n",
       "      <td>prod_2_años_anteriores</td>\n",
       "      <td>0.400446</td>\n",
       "    </tr>\n",
       "    <tr>\n",
       "      <th>78</th>\n",
       "      <td>clase_cargo_docente_Profesor contratado</td>\n",
       "      <td>0.396708</td>\n",
       "    </tr>\n",
       "    <tr>\n",
       "      <th>49</th>\n",
       "      <td>clase_cargo_docente_Auxiliar docente de segund...</td>\n",
       "      <td>0.375287</td>\n",
       "    </tr>\n",
       "    <tr>\n",
       "      <th>82</th>\n",
       "      <td>clase_cargo_docente_Profesor instructor</td>\n",
       "      <td>0.359096</td>\n",
       "    </tr>\n",
       "    <tr>\n",
       "      <th>75</th>\n",
       "      <td>clase_cargo_docente_Profesor adjunto</td>\n",
       "      <td>0.307269</td>\n",
       "    </tr>\n",
       "    <tr>\n",
       "      <th>88</th>\n",
       "      <td>clase_cargo_docente_Profesor titular</td>\n",
       "      <td>0.301288</td>\n",
       "    </tr>\n",
       "    <tr>\n",
       "      <th>76</th>\n",
       "      <td>clase_cargo_docente_Profesor asociado</td>\n",
       "      <td>0.233332</td>\n",
       "    </tr>\n",
       "    <tr>\n",
       "      <th>53</th>\n",
       "      <td>clase_cargo_docente_Ayudante Docente A</td>\n",
       "      <td>0.226341</td>\n",
       "    </tr>\n",
       "    <tr>\n",
       "      <th>69</th>\n",
       "      <td>clase_cargo_docente_Docente libre</td>\n",
       "      <td>0.225409</td>\n",
       "    </tr>\n",
       "    <tr>\n",
       "      <th>50</th>\n",
       "      <td>clase_cargo_docente_Auxiliar docente graduado</td>\n",
       "      <td>0.223541</td>\n",
       "    </tr>\n",
       "    <tr>\n",
       "      <th>56</th>\n",
       "      <td>clase_cargo_docente_Ayudante alumno</td>\n",
       "      <td>0.222532</td>\n",
       "    </tr>\n",
       "    <tr>\n",
       "      <th>13</th>\n",
       "      <td>t_personal_INVESTIGADOR</td>\n",
       "      <td>0.209376</td>\n",
       "    </tr>\n",
       "    <tr>\n",
       "      <th>6</th>\n",
       "      <td>edad_(40, 50]</td>\n",
       "      <td>0.207264</td>\n",
       "    </tr>\n",
       "    <tr>\n",
       "      <th>26</th>\n",
       "      <td>grado_acad_Universitario de posgrado/maestría</td>\n",
       "      <td>0.196376</td>\n",
       "    </tr>\n",
       "    <tr>\n",
       "      <th>27</th>\n",
       "      <td>cat_conicet_Becario postdoctoral</td>\n",
       "      <td>0.193985</td>\n",
       "    </tr>\n",
       "    <tr>\n",
       "      <th>46</th>\n",
       "      <td>clase_cargo_docente_Auxiliar docente</td>\n",
       "      <td>0.185277</td>\n",
       "    </tr>\n",
       "    <tr>\n",
       "      <th>74</th>\n",
       "      <td>clase_cargo_docente_Otro de nivel superior</td>\n",
       "      <td>0.179177</td>\n",
       "    </tr>\n",
       "    <tr>\n",
       "      <th>77</th>\n",
       "      <td>clase_cargo_docente_Profesor consulto</td>\n",
       "      <td>0.176652</td>\n",
       "    </tr>\n",
       "    <tr>\n",
       "      <th>37</th>\n",
       "      <td>clase_cargo_docente_Asistente de primera</td>\n",
       "      <td>0.172459</td>\n",
       "    </tr>\n",
       "    <tr>\n",
       "      <th>59</th>\n",
       "      <td>clase_cargo_docente_Ayudante de primera</td>\n",
       "      <td>0.150065</td>\n",
       "    </tr>\n",
       "    <tr>\n",
       "      <th>...</th>\n",
       "      <td>...</td>\n",
       "      <td>...</td>\n",
       "    </tr>\n",
       "    <tr>\n",
       "      <th>3</th>\n",
       "      <td>sexo_M</td>\n",
       "      <td>-0.012201</td>\n",
       "    </tr>\n",
       "    <tr>\n",
       "      <th>32</th>\n",
       "      <td>cat_conicet_Investigador principal</td>\n",
       "      <td>-0.018173</td>\n",
       "    </tr>\n",
       "    <tr>\n",
       "      <th>22</th>\n",
       "      <td>grado_acad_Terciario no universitario</td>\n",
       "      <td>-0.019893</td>\n",
       "    </tr>\n",
       "    <tr>\n",
       "      <th>91</th>\n",
       "      <td>clase_cargo_docente_no docente</td>\n",
       "      <td>-0.025318</td>\n",
       "    </tr>\n",
       "    <tr>\n",
       "      <th>7</th>\n",
       "      <td>edad_(50, 60]</td>\n",
       "      <td>-0.025823</td>\n",
       "    </tr>\n",
       "    <tr>\n",
       "      <th>96</th>\n",
       "      <td>area_exp_INGENIERÍAS Y TECNOLOGÍAS</td>\n",
       "      <td>-0.042019</td>\n",
       "    </tr>\n",
       "    <tr>\n",
       "      <th>65</th>\n",
       "      <td>clase_cargo_docente_Ayudante estudiantil</td>\n",
       "      <td>-0.043126</td>\n",
       "    </tr>\n",
       "    <tr>\n",
       "      <th>34</th>\n",
       "      <td>cat_conicet_No pertenece a Conicet</td>\n",
       "      <td>-0.045759</td>\n",
       "    </tr>\n",
       "    <tr>\n",
       "      <th>16</th>\n",
       "      <td>cond_docente_Regular o por concurso</td>\n",
       "      <td>-0.058690</td>\n",
       "    </tr>\n",
       "    <tr>\n",
       "      <th>31</th>\n",
       "      <td>cat_conicet_Investigador independiente</td>\n",
       "      <td>-0.066533</td>\n",
       "    </tr>\n",
       "    <tr>\n",
       "      <th>17</th>\n",
       "      <td>cond_docente_no docente</td>\n",
       "      <td>-0.078586</td>\n",
       "    </tr>\n",
       "    <tr>\n",
       "      <th>2</th>\n",
       "      <td>prod_3_años_anteriores</td>\n",
       "      <td>-0.080291</td>\n",
       "    </tr>\n",
       "    <tr>\n",
       "      <th>21</th>\n",
       "      <td>grado_acad_Medio</td>\n",
       "      <td>-0.095272</td>\n",
       "    </tr>\n",
       "    <tr>\n",
       "      <th>23</th>\n",
       "      <td>grado_acad_Universitario de grado</td>\n",
       "      <td>-0.098676</td>\n",
       "    </tr>\n",
       "    <tr>\n",
       "      <th>63</th>\n",
       "      <td>clase_cargo_docente_Ayudante diplomado</td>\n",
       "      <td>-0.099875</td>\n",
       "    </tr>\n",
       "    <tr>\n",
       "      <th>57</th>\n",
       "      <td>clase_cargo_docente_Ayudante de cátedra</td>\n",
       "      <td>-0.106426</td>\n",
       "    </tr>\n",
       "    <tr>\n",
       "      <th>39</th>\n",
       "      <td>clase_cargo_docente_Asistente docente</td>\n",
       "      <td>-0.109391</td>\n",
       "    </tr>\n",
       "    <tr>\n",
       "      <th>95</th>\n",
       "      <td>area_exp_HUMANIDADES</td>\n",
       "      <td>-0.109510</td>\n",
       "    </tr>\n",
       "    <tr>\n",
       "      <th>36</th>\n",
       "      <td>cat_conicet_Personal de apoyo</td>\n",
       "      <td>-0.115748</td>\n",
       "    </tr>\n",
       "    <tr>\n",
       "      <th>33</th>\n",
       "      <td>cat_conicet_Investigador superior</td>\n",
       "      <td>-0.120920</td>\n",
       "    </tr>\n",
       "    <tr>\n",
       "      <th>48</th>\n",
       "      <td>clase_cargo_docente_Auxiliar docente de primer...</td>\n",
       "      <td>-0.190357</td>\n",
       "    </tr>\n",
       "    <tr>\n",
       "      <th>92</th>\n",
       "      <td>area_exp_CIENCIAS MÉDICAS Y DE LA SALUD</td>\n",
       "      <td>-0.192457</td>\n",
       "    </tr>\n",
       "    <tr>\n",
       "      <th>87</th>\n",
       "      <td>clase_cargo_docente_Profesor por convenio</td>\n",
       "      <td>-0.198454</td>\n",
       "    </tr>\n",
       "    <tr>\n",
       "      <th>61</th>\n",
       "      <td>clase_cargo_docente_Ayudante de trabajos práct...</td>\n",
       "      <td>-0.282285</td>\n",
       "    </tr>\n",
       "    <tr>\n",
       "      <th>54</th>\n",
       "      <td>clase_cargo_docente_Ayudante Docente B</td>\n",
       "      <td>-0.420296</td>\n",
       "    </tr>\n",
       "    <tr>\n",
       "      <th>8</th>\n",
       "      <td>edad_(60, 70]</td>\n",
       "      <td>-0.470567</td>\n",
       "    </tr>\n",
       "    <tr>\n",
       "      <th>10</th>\n",
       "      <td>edad_(80, 90]</td>\n",
       "      <td>-0.640580</td>\n",
       "    </tr>\n",
       "    <tr>\n",
       "      <th>9</th>\n",
       "      <td>edad_(70, 80]</td>\n",
       "      <td>-0.696087</td>\n",
       "    </tr>\n",
       "    <tr>\n",
       "      <th>14</th>\n",
       "      <td>t_personal_OTRO PERSONAL DE LA INSTITUCION</td>\n",
       "      <td>-0.720540</td>\n",
       "    </tr>\n",
       "    <tr>\n",
       "      <th>12</th>\n",
       "      <td>t_personal_DOCENTE</td>\n",
       "      <td>-1.107257</td>\n",
       "    </tr>\n",
       "  </tbody>\n",
       "</table>\n",
       "<p>97 rows × 2 columns</p>\n",
       "</div>"
      ],
      "text/plain": [
       "                                              Feature  ponderador\n",
       "0                                   prod_año_anterior    1.569554\n",
       "4                                       edad_(20, 30]    0.893978\n",
       "42            clase_cargo_docente_Asistente principal    0.761706\n",
       "66              clase_cargo_docente_Docente Adscripto    0.698588\n",
       "45  clase_cargo_docente_Auxiliar de segunda categoría    0.616176\n",
       "47     clase_cargo_docente_Auxiliar docente adscripto    0.550232\n",
       "83              clase_cargo_docente_Profesor invitado    0.521331\n",
       "40            clase_cargo_docente_Asistente nivel D-1    0.500394\n",
       "5                                       edad_(30, 40]    0.477433\n",
       "24     grado_acad_Universitario de posgrado/doctorado    0.472226\n",
       "1                              prod_2_años_anteriores    0.400446\n",
       "78            clase_cargo_docente_Profesor contratado    0.396708\n",
       "49  clase_cargo_docente_Auxiliar docente de segund...    0.375287\n",
       "82            clase_cargo_docente_Profesor instructor    0.359096\n",
       "75               clase_cargo_docente_Profesor adjunto    0.307269\n",
       "88               clase_cargo_docente_Profesor titular    0.301288\n",
       "76              clase_cargo_docente_Profesor asociado    0.233332\n",
       "53             clase_cargo_docente_Ayudante Docente A    0.226341\n",
       "69                  clase_cargo_docente_Docente libre    0.225409\n",
       "50      clase_cargo_docente_Auxiliar docente graduado    0.223541\n",
       "56                clase_cargo_docente_Ayudante alumno    0.222532\n",
       "13                            t_personal_INVESTIGADOR    0.209376\n",
       "6                                       edad_(40, 50]    0.207264\n",
       "26      grado_acad_Universitario de posgrado/maestría    0.196376\n",
       "27                   cat_conicet_Becario postdoctoral    0.193985\n",
       "46               clase_cargo_docente_Auxiliar docente    0.185277\n",
       "74         clase_cargo_docente_Otro de nivel superior    0.179177\n",
       "77              clase_cargo_docente_Profesor consulto    0.176652\n",
       "37           clase_cargo_docente_Asistente de primera    0.172459\n",
       "59            clase_cargo_docente_Ayudante de primera    0.150065\n",
       "..                                                ...         ...\n",
       "3                                              sexo_M   -0.012201\n",
       "32                 cat_conicet_Investigador principal   -0.018173\n",
       "22              grado_acad_Terciario no universitario   -0.019893\n",
       "91                     clase_cargo_docente_no docente   -0.025318\n",
       "7                                       edad_(50, 60]   -0.025823\n",
       "96                 area_exp_INGENIERÍAS Y TECNOLOGÍAS   -0.042019\n",
       "65           clase_cargo_docente_Ayudante estudiantil   -0.043126\n",
       "34                 cat_conicet_No pertenece a Conicet   -0.045759\n",
       "16                cond_docente_Regular o por concurso   -0.058690\n",
       "31             cat_conicet_Investigador independiente   -0.066533\n",
       "17                            cond_docente_no docente   -0.078586\n",
       "2                              prod_3_años_anteriores   -0.080291\n",
       "21                                   grado_acad_Medio   -0.095272\n",
       "23                  grado_acad_Universitario de grado   -0.098676\n",
       "63             clase_cargo_docente_Ayudante diplomado   -0.099875\n",
       "57            clase_cargo_docente_Ayudante de cátedra   -0.106426\n",
       "39              clase_cargo_docente_Asistente docente   -0.109391\n",
       "95                               area_exp_HUMANIDADES   -0.109510\n",
       "36                      cat_conicet_Personal de apoyo   -0.115748\n",
       "33                  cat_conicet_Investigador superior   -0.120920\n",
       "48  clase_cargo_docente_Auxiliar docente de primer...   -0.190357\n",
       "92            area_exp_CIENCIAS MÉDICAS Y DE LA SALUD   -0.192457\n",
       "87          clase_cargo_docente_Profesor por convenio   -0.198454\n",
       "61  clase_cargo_docente_Ayudante de trabajos práct...   -0.282285\n",
       "54             clase_cargo_docente_Ayudante Docente B   -0.420296\n",
       "8                                       edad_(60, 70]   -0.470567\n",
       "10                                      edad_(80, 90]   -0.640580\n",
       "9                                       edad_(70, 80]   -0.696087\n",
       "14         t_personal_OTRO PERSONAL DE LA INSTITUCION   -0.720540\n",
       "12                                 t_personal_DOCENTE   -1.107257\n",
       "\n",
       "[97 rows x 2 columns]"
      ]
     },
     "execution_count": 162,
     "metadata": {},
     "output_type": "execute_result"
    }
   ],
   "source": [
    "coef.sort_values(by='ponderador',ascending=False)"
   ]
  },
  {
   "cell_type": "code",
   "execution_count": null,
   "metadata": {},
   "outputs": [],
   "source": []
  }
 ],
 "metadata": {
  "kernelspec": {
   "display_name": "Python 3",
   "language": "python",
   "name": "python3"
  },
  "language_info": {
   "codemirror_mode": {
    "name": "ipython",
    "version": 3
   },
   "file_extension": ".py",
   "mimetype": "text/x-python",
   "name": "python",
   "nbconvert_exporter": "python",
   "pygments_lexer": "ipython3",
   "version": "3.6.6"
  }
 },
 "nbformat": 4,
 "nbformat_minor": 2
}
